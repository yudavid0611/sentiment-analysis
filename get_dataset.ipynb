{
 "cells": [
  {
   "attachments": {},
   "cell_type": "markdown",
   "id": "68ff1a6f",
   "metadata": {},
   "source": [
    "# 데이터셋 구축"
   ]
  },
  {
   "cell_type": "code",
   "execution_count": 2,
   "id": "e1da6f7f-4da4-4633-95f5-4496f37917b0",
   "metadata": {},
   "outputs": [],
   "source": [
    "import requests\n",
    "import pandas as pd\n",
    "from pykrx import stock\n",
    "from datetime import datetime\n",
    "from bs4 import BeautifulSoup as bs"
   ]
  },
  {
   "attachments": {},
   "cell_type": "markdown",
   "id": "95790e97",
   "metadata": {},
   "source": [
    "## 1. 코스피 50 종목 가져오기"
   ]
  },
  {
   "cell_type": "code",
   "execution_count": 3,
   "id": "5b86176d",
   "metadata": {},
   "outputs": [
    {
     "data": {
      "text/plain": [
       "'20230623'"
      ]
     },
     "execution_count": 3,
     "metadata": {},
     "output_type": "execute_result"
    }
   ],
   "source": [
    "## 오늘 날짜 가져오기 ##\n",
    "today = datetime.today().isoformat()[:10]\n",
    "today = today.replace('-', '')\n",
    "today"
   ]
  },
  {
   "cell_type": "code",
   "execution_count": 4,
   "id": "e544cc65",
   "metadata": {},
   "outputs": [
    {
     "name": "stdout",
     "output_type": "stream",
     "text": [
      "종목 개수: 50\n",
      "10개 종목만 출력해보기: ['삼성전자', 'LG에너지솔루션', 'SK하이닉스', '삼성바이오로직스', 'LG화학', '삼성SDI', '현대차', '기아', 'POSCO홀딩스', 'NAVER']\n"
     ]
    }
   ],
   "source": [
    "## 코스피 50 종목 가져오기 ##\n",
    "\n",
    "# 지수 티커 확인: https://github.com/sharebook-kr/pykrx#212-%EC%9D%B8%EB%8D%B1%EC%8A%A4-%EC%A1%B0%ED%9A%8C-api\n",
    "tickers = stock.get_index_portfolio_deposit_file(\"1035\")\n",
    "\n",
    "stocks = []\n",
    "for ticker in tickers:\n",
    "    name = stock.get_market_ticker_name(ticker)\n",
    "    stocks.append(name)\n",
    "\n",
    "print(f'종목 개수: {len(stocks)}')\n",
    "print(f'10개 종목만 출력해보기: {stocks[:10]}')"
   ]
  },
  {
   "attachments": {},
   "cell_type": "markdown",
   "id": "6a7a1041",
   "metadata": {},
   "source": [
    "## 2. 종목별 뉴스 크롤링"
   ]
  },
  {
   "cell_type": "code",
   "execution_count": 5,
   "id": "875d4235-8c62-43dd-a8c6-76dee0cf84cf",
   "metadata": {},
   "outputs": [],
   "source": [
    "# 뉴스 크롤링 시작 날짜\n",
    "start_date = '2023.06.01'\n",
    "\n",
    "# 뉴스 크롤링 종료 날짜\n",
    "end_date = '2023.06.15'\n",
    "\n",
    "headers = {'User-Agent' : 'Mozilla/5.0 (Macintosh; Intel Mac OS X 10_15_3)'}"
   ]
  },
  {
   "cell_type": "code",
   "execution_count": 6,
   "id": "43ca35b5-6176-4981-9e62-43c56ac13870",
   "metadata": {
    "tags": []
   },
   "outputs": [],
   "source": [
    "stock_news = pd.DataFrame()\n",
    "\n",
    "for stock in stocks:\n",
    "\n",
    "    # 시작 페이지\n",
    "    page = 1 \n",
    "\n",
    "    while True:\n",
    "        url = 'https://search.naver.com/search.naver?where=news&sm=tab_pge&query={}&sort=0&photo=3&field=0&pd=1&ds={}&de={}&cluster_rank=27&mynews=0&office_type=0&office_section_code=0&news_office_checked=&nso=so:r,p:1w,a:all&start={}'.format(stock, start_date, end_date, page)\n",
    "        html = requests.get(url, headers = headers).text\n",
    "        soup = bs(html, 'html.parser')\n",
    "\n",
    "        news_list = soup.select_one('#main_pack > section > div > div.group_news > ul')\n",
    "        try:\n",
    "            news_list = news_list.find_all('li', 'bx')\n",
    "        except:\n",
    "            break\n",
    "            \n",
    "        if len(news_list) == 10:\n",
    "            pass\n",
    "        else:\n",
    "            break\n",
    "        \n",
    "        for n in news_list:\n",
    "            title = n.find('a', \"news_tit\").text\n",
    "            press = n.find('a', \"info press\").text\n",
    "            all_element = pd.DataFrame({'stock':[stock],'press':[press],'title':[title]})\n",
    "            stock_news = pd.concat([stock_news, all_element])\n",
    "\n",
    "        # 다음 페이지\n",
    "        page += 10 "
   ]
  },
  {
   "attachments": {},
   "cell_type": "markdown",
   "id": "478fac5d",
   "metadata": {},
   "source": [
    "## 3. 결과 저장"
   ]
  },
  {
   "cell_type": "code",
   "execution_count": 8,
   "id": "f89109cf-1ad3-453a-92f9-73e766a58c98",
   "metadata": {},
   "outputs": [],
   "source": [
    "stock_news.reset_index(drop = True, inplace = True)\n",
    "stock_news.to_excel('data/stock_news_result_{}.xlsx'.format(start_date + '-' + end_date))"
   ]
  },
  {
   "cell_type": "code",
   "execution_count": 9,
   "id": "2f4dfca3-1410-4fdc-9fd3-14b961b6c298",
   "metadata": {
    "collapsed": true,
    "jupyter": {
     "outputs_hidden": true
    },
    "tags": []
   },
   "outputs": [
    {
     "data": {
      "text/html": [
       "<div>\n",
       "<style scoped>\n",
       "    .dataframe tbody tr th:only-of-type {\n",
       "        vertical-align: middle;\n",
       "    }\n",
       "\n",
       "    .dataframe tbody tr th {\n",
       "        vertical-align: top;\n",
       "    }\n",
       "\n",
       "    .dataframe thead th {\n",
       "        text-align: right;\n",
       "    }\n",
       "</style>\n",
       "<table border=\"1\" class=\"dataframe\">\n",
       "  <thead>\n",
       "    <tr style=\"text-align: right;\">\n",
       "      <th></th>\n",
       "      <th>stock</th>\n",
       "      <th>press</th>\n",
       "      <th>title</th>\n",
       "    </tr>\n",
       "  </thead>\n",
       "  <tbody>\n",
       "    <tr>\n",
       "      <th>0</th>\n",
       "      <td>삼성전자</td>\n",
       "      <td>파이낸셜뉴스</td>\n",
       "      <td>나흘간 1조3000억 팔아치운 외국인 \"삼성전자는 더 담자\"</td>\n",
       "    </tr>\n",
       "    <tr>\n",
       "      <th>1</th>\n",
       "      <td>삼성전자</td>\n",
       "      <td>한국경제</td>\n",
       "      <td>송봉섭 삼성전자서비스 대표…능률협회컨설팅 특별 공헌상</td>\n",
       "    </tr>\n",
       "    <tr>\n",
       "      <th>2</th>\n",
       "      <td>삼성전자</td>\n",
       "      <td>한겨레</td>\n",
       "      <td>세계 파운드리 업계, TSMC·삼성전자·인텔 3파전 재편 본격화?</td>\n",
       "    </tr>\n",
       "    <tr>\n",
       "      <th>3</th>\n",
       "      <td>삼성전자</td>\n",
       "      <td>한국경제</td>\n",
       "      <td>삼성전자·자이·대한항공·하이카·신한銀 '19년째 사랑받는 1위'</td>\n",
       "    </tr>\n",
       "    <tr>\n",
       "      <th>4</th>\n",
       "      <td>삼성전자</td>\n",
       "      <td>전자신문언론사 선정</td>\n",
       "      <td>삼성전자, 美 텍사스에 네트워크혁신센터 구축</td>\n",
       "    </tr>\n",
       "    <tr>\n",
       "      <th>...</th>\n",
       "      <td>...</td>\n",
       "      <td>...</td>\n",
       "      <td>...</td>\n",
       "    </tr>\n",
       "    <tr>\n",
       "      <th>3855</th>\n",
       "      <td>넷마블</td>\n",
       "      <td>디지털타임스</td>\n",
       "      <td>`3N` 신작 러시로 실적반등 노린다</td>\n",
       "    </tr>\n",
       "    <tr>\n",
       "      <th>3856</th>\n",
       "      <td>넷마블</td>\n",
       "      <td>한국경제</td>\n",
       "      <td>실적 부진에…게임사 신용등급 강등 '공포'</td>\n",
       "    </tr>\n",
       "    <tr>\n",
       "      <th>3857</th>\n",
       "      <td>넷마블</td>\n",
       "      <td>매일경제</td>\n",
       "      <td>엇갈린 게임株 … 동생들만 웃었다</td>\n",
       "    </tr>\n",
       "    <tr>\n",
       "      <th>3858</th>\n",
       "      <td>넷마블</td>\n",
       "      <td>매일경제</td>\n",
       "      <td>日뮤지컬로, 빛체험 전시로 … K드라마 세계관 '합체'</td>\n",
       "    </tr>\n",
       "    <tr>\n",
       "      <th>3859</th>\n",
       "      <td>넷마블</td>\n",
       "      <td>동아일보</td>\n",
       "      <td>대기업집단 10곳중 4곳은 ‘창업자=그룹 총수’</td>\n",
       "    </tr>\n",
       "  </tbody>\n",
       "</table>\n",
       "<p>3860 rows × 3 columns</p>\n",
       "</div>"
      ],
      "text/plain": [
       "     stock       press                                 title\n",
       "0     삼성전자      파이낸셜뉴스     나흘간 1조3000억 팔아치운 외국인 \"삼성전자는 더 담자\"\n",
       "1     삼성전자        한국경제         송봉섭 삼성전자서비스 대표…능률협회컨설팅 특별 공헌상\n",
       "2     삼성전자         한겨레  세계 파운드리 업계, TSMC·삼성전자·인텔 3파전 재편 본격화?\n",
       "3     삼성전자        한국경제   삼성전자·자이·대한항공·하이카·신한銀 '19년째 사랑받는 1위'\n",
       "4     삼성전자  전자신문언론사 선정              삼성전자, 美 텍사스에 네트워크혁신센터 구축\n",
       "...    ...         ...                                   ...\n",
       "3855   넷마블      디지털타임스                  `3N` 신작 러시로 실적반등 노린다\n",
       "3856   넷마블        한국경제               실적 부진에…게임사 신용등급 강등 '공포'\n",
       "3857   넷마블        매일경제                    엇갈린 게임株 … 동생들만 웃었다\n",
       "3858   넷마블        매일경제        日뮤지컬로, 빛체험 전시로 … K드라마 세계관 '합체'\n",
       "3859   넷마블        동아일보            대기업집단 10곳중 4곳은 ‘창업자=그룹 총수’\n",
       "\n",
       "[3860 rows x 3 columns]"
      ]
     },
     "execution_count": 9,
     "metadata": {},
     "output_type": "execute_result"
    }
   ],
   "source": [
    "stock_news"
   ]
  }
 ],
 "metadata": {
  "kernelspec": {
   "display_name": "sentiment",
   "language": "python",
   "name": "venv"
  },
  "language_info": {
   "codemirror_mode": {
    "name": "ipython",
    "version": 3
   },
   "file_extension": ".py",
   "mimetype": "text/x-python",
   "name": "python",
   "nbconvert_exporter": "python",
   "pygments_lexer": "ipython3",
   "version": "3.8.8"
  }
 },
 "nbformat": 4,
 "nbformat_minor": 5
}
